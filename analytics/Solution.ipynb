{
 "cells": [
  {
   "cell_type": "markdown",
   "id": "a65107fd-50d7-4fdd-9238-129b83be0694",
   "metadata": {
    "tags": []
   },
   "source": [
    "# Create database"
   ]
  },
  {
   "cell_type": "code",
   "execution_count": 1,
   "id": "fa963fda-4dbe-468c-b198-d15f6f0b47e9",
   "metadata": {},
   "outputs": [],
   "source": [
    "import psycopg2\n",
    "from psycopg2.extensions import ISOLATION_LEVEL_AUTOCOMMIT\n",
    "\n",
    "# Connect to an existing database\n",
    "conn = psycopg2.connect(\"host=postgres dbname=postgres port=5432 user=postgres password=changeme\")\n",
    "\n",
    "# Open a cursor to perform database operations\n",
    "cur = conn.cursor()\n",
    "conn.set_isolation_level(ISOLATION_LEVEL_AUTOCOMMIT);\n",
    "\n",
    "cur.execute(\"CREATE DATABASE movies\")\n",
    "conn.commit()\n",
    "    \n",
    "# Close communication with the database\n",
    "cur.close()\n",
    "conn.close()"
   ]
  },
  {
   "cell_type": "markdown",
   "id": "7ec2c5bd-89fb-4f0c-bf54-37a685a24820",
   "metadata": {
    "jp-MarkdownHeadingCollapsed": true,
    "tags": []
   },
   "source": [
    "# Reconnect, this time to movies database"
   ]
  },
  {
   "cell_type": "code",
   "execution_count": 2,
   "id": "2b6ca41b-0bd7-470c-9603-f191560bd895",
   "metadata": {},
   "outputs": [],
   "source": [
    "import psycopg2\n",
    "\n",
    "# Connect to an existing database\n",
    "conn = psycopg2.connect(\"host=postgres dbname=movies port=5432 user=postgres password=changeme\")\n",
    "\n",
    "# Open a cursor to perform database operations\n",
    "cur = conn.cursor()"
   ]
  },
  {
   "cell_type": "markdown",
   "id": "e0406dd9-8ee9-4d79-a6f9-e467b48f4855",
   "metadata": {
    "tags": []
   },
   "source": [
    "# Create Tables with relations"
   ]
  },
  {
   "cell_type": "code",
   "execution_count": 3,
   "id": "281bde17-9c8e-417c-aef6-c70a9067f338",
   "metadata": {},
   "outputs": [],
   "source": [
    "cur.execute(\"\"\"\n",
    "        -- Table: public.movies\n",
    "\n",
    "        -- DROP TABLE IF EXISTS public.movies;\n",
    "\n",
    "        CREATE TABLE IF NOT EXISTS public.movies\n",
    "        (\n",
    "            \"movieId\" integer NOT NULL,\n",
    "            title character varying COLLATE pg_catalog.\"default\",\n",
    "            genres character varying COLLATE pg_catalog.\"default\",\n",
    "            CONSTRAINT movies_pkey PRIMARY KEY (\"movieId\")\n",
    "        )\n",
    "\n",
    "        TABLESPACE pg_default;\n",
    "\n",
    "        ALTER TABLE IF EXISTS public.movies\n",
    "            OWNER to postgres;\n",
    "            \"\"\")\n",
    "conn.commit()"
   ]
  },
  {
   "cell_type": "code",
   "execution_count": 4,
   "id": "6efebcf2-ab73-477c-a537-5d39811ce6fa",
   "metadata": {},
   "outputs": [],
   "source": [
    "cur.execute(\"\"\"\n",
    "        -- Table: public.links\n",
    "\n",
    "        -- DROP TABLE IF EXISTS public.links;\n",
    "\n",
    "        CREATE TABLE IF NOT EXISTS public.links\n",
    "        (\n",
    "            \"movieId\" integer NOT NULL,\n",
    "            \"imdbId\" integer NOT NULL,\n",
    "            \"tmdbId\" integer,\n",
    "            CONSTRAINT links_pkey PRIMARY KEY (\"movieId\"),\n",
    "            CONSTRAINT \"movieId_movies\" FOREIGN KEY (\"movieId\")\n",
    "                REFERENCES public.movies (\"movieId\") MATCH SIMPLE\n",
    "                ON UPDATE NO ACTION\n",
    "                ON DELETE NO ACTION\n",
    "                NOT VALID\n",
    "        )\n",
    "\n",
    "        TABLESPACE pg_default;\n",
    "\n",
    "        ALTER TABLE IF EXISTS public.links\n",
    "            OWNER to postgres;\n",
    "            \"\"\")\n",
    "conn.commit()"
   ]
  },
  {
   "cell_type": "code",
   "execution_count": 5,
   "id": "d805dd06-806d-46c4-9da2-cf79cc4a7ac3",
   "metadata": {},
   "outputs": [],
   "source": [
    "cur.execute(\"\"\"\n",
    "        -- Table: public.ratings\n",
    "\n",
    "        -- DROP TABLE IF EXISTS public.ratings;\n",
    "\n",
    "        CREATE TABLE IF NOT EXISTS public.ratings\n",
    "        (\n",
    "            \"userId\" integer NOT NULL,\n",
    "            \"movieId\" integer NOT NULL,\n",
    "            rating numeric NOT NULL,\n",
    "            \"timestamp\" integer NOT NULL,\n",
    "            CONSTRAINT ratings_pkey PRIMARY KEY (\"userId\", \"movieId\"),\n",
    "            CONSTRAINT \"movieId_ratings\" FOREIGN KEY (\"movieId\")\n",
    "                REFERENCES public.links (\"movieId\") MATCH SIMPLE\n",
    "                ON UPDATE NO ACTION\n",
    "                ON DELETE NO ACTION\n",
    "                NOT VALID\n",
    "        )\n",
    "\n",
    "        TABLESPACE pg_default;\n",
    "\n",
    "        ALTER TABLE IF EXISTS public.ratings\n",
    "            OWNER to postgres;\n",
    "            \"\"\")\n",
    "conn.commit()"
   ]
  },
  {
   "cell_type": "code",
   "execution_count": 6,
   "id": "ba3cd027-ef2a-4002-92cd-5513d2a6face",
   "metadata": {},
   "outputs": [],
   "source": [
    "cur.execute(\"\"\"\n",
    "    -- Table: public.tags\n",
    "\n",
    "    -- DROP TABLE IF EXISTS public.tags;\n",
    "\n",
    "    CREATE TABLE IF NOT EXISTS public.tags\n",
    "    (\n",
    "        \"userId\" integer,\n",
    "        \"movieId\" integer NOT NULL,\n",
    "        tag character varying COLLATE pg_catalog.\"default\",\n",
    "        \"timestamp\" integer,\n",
    "        CONSTRAINT \"movieId_tags\" FOREIGN KEY (\"movieId\")\n",
    "            REFERENCES public.links (\"movieId\") MATCH SIMPLE\n",
    "            ON UPDATE NO ACTION\n",
    "            ON DELETE NO ACTION\n",
    "            NOT VALID\n",
    "    )\n",
    "\n",
    "    TABLESPACE pg_default;\n",
    "\n",
    "    ALTER TABLE IF EXISTS public.tags\n",
    "        OWNER to postgres;\n",
    "            \"\"\")\n",
    "conn.commit()"
   ]
  },
  {
   "cell_type": "markdown",
   "id": "59931e7b-93b1-402d-a39a-d8feba6f699f",
   "metadata": {},
   "source": [
    "# Add Data to tables"
   ]
  },
  {
   "cell_type": "code",
   "execution_count": 7,
   "id": "2b378623-b767-4599-bbf9-f8d9229b9fa7",
   "metadata": {},
   "outputs": [],
   "source": [
    "cur.execute(\"\"\"\n",
    "    COPY movies FROM '/db/ml-latest-small/movies.csv' DELIMITER ',' CSV HEADER;\n",
    "\"\"\")\n",
    "\n",
    "conn.commit()"
   ]
  },
  {
   "cell_type": "code",
   "execution_count": 8,
   "id": "7331f159-7af4-4fde-bb37-42bfbaaa0664",
   "metadata": {},
   "outputs": [],
   "source": [
    "cur.execute(\"\"\"\n",
    "    COPY links FROM '/db/ml-latest-small/links.csv' DELIMITER ',' CSV HEADER;\n",
    "\"\"\")\n",
    "\n",
    "conn.commit()"
   ]
  },
  {
   "cell_type": "code",
   "execution_count": 9,
   "id": "aa032a73-62e0-4538-96e1-e88981a3c438",
   "metadata": {},
   "outputs": [],
   "source": [
    "cur.execute(\"\"\"\n",
    "    COPY ratings FROM '/db/ml-latest-small/ratings.csv' DELIMITER ',' CSV HEADER;\n",
    "\"\"\")\n",
    "\n",
    "conn.commit()"
   ]
  },
  {
   "cell_type": "code",
   "execution_count": 10,
   "id": "a33cc2d7-4014-468d-9a95-7c3b9f3cd551",
   "metadata": {},
   "outputs": [],
   "source": [
    "cur.execute(\"\"\"\n",
    "    COPY tags FROM '/db/ml-latest-small/tags.csv' DELIMITER ',' CSV HEADER;\n",
    "\"\"\")\n",
    "\n",
    "conn.commit()"
   ]
  },
  {
   "cell_type": "code",
   "execution_count": 11,
   "id": "3fb3107a-8e16-4604-ae66-ed6688977d62",
   "metadata": {},
   "outputs": [],
   "source": [
    "# Close communication with the database\n",
    "cur.close()\n",
    "conn.close()"
   ]
  },
  {
   "cell_type": "code",
   "execution_count": 1,
   "id": "679e0dd1-2b7b-40bb-908b-c669d26409ca",
   "metadata": {},
   "outputs": [
    {
     "name": "stdout",
     "output_type": "stream",
     "text": [
      "Done\n"
     ]
    }
   ],
   "source": [
    "print(\"Database Initiation done\")"
   ]
  },
  {
   "cell_type": "code",
   "execution_count": null,
   "id": "1e416e8f-8591-478f-92dc-a63f0ef7333b",
   "metadata": {
    "tags": []
   },
   "outputs": [],
   "source": [
    "import psycopg2\n",
    "\n",
    "# Connect to an existing database\n",
    "conn = psycopg2.connect(\"host=postgres port=5432 dbname=movies user=postgres password=changeme\")\n",
    "\n",
    "# Open a cursor to perform database operations\n",
    "cur = conn.cursor()"
   ]
  },
  {
   "cell_type": "markdown",
   "id": "bd52c3ba-d949-4dae-82e5-5d19cba14a0e",
   "metadata": {
    "tags": []
   },
   "source": [
    "# TASK 1\n",
    "How many movies are in data set ?"
   ]
  },
  {
   "cell_type": "code",
   "execution_count": null,
   "id": "288aee80-8b06-453c-940e-0d05fb2b421f",
   "metadata": {},
   "outputs": [],
   "source": [
    "cur.execute(\"SELECT COUNT(*) FROM movies;\")\n",
    "cur.fetchone()"
   ]
  },
  {
   "cell_type": "markdown",
   "id": "e3aacedb-464c-4943-8cd1-149303ae003f",
   "metadata": {},
   "source": [
    "Answer: (number of movies in dataset)"
   ]
  },
  {
   "cell_type": "markdown",
   "id": "cc171d72-7ca5-4e9b-98be-d865d927394c",
   "metadata": {
    "tags": []
   },
   "source": [
    "# TASK 2 - NOT DONE\n",
    "What is the most common genre of movie?\n",
    "NOT DONE"
   ]
  },
  {
   "cell_type": "markdown",
   "id": "94f5a954-db00-4ab0-bc80-3818180df21f",
   "metadata": {},
   "source": [
    "# TASK 3\n",
    "What are top 10 movies with highest rate ?"
   ]
  },
  {
   "cell_type": "code",
   "execution_count": null,
   "id": "cbd002b3-e525-47e3-b6ef-cf9a43daa343",
   "metadata": {},
   "outputs": [],
   "source": [
    "cur.execute(\n",
    "    \"\"\"SELECT \"title\", ROUND(AVG(\"rating\"), 2)\n",
    "    FROM movies\n",
    "        JOIN ratings USING (\"movieId\")\n",
    "    GROUP BY \"movieId\"\n",
    "    ORDER BY AVG(\"rating\") DESC\n",
    "    LIMIT 10;\"\"\"\n",
    ")\n",
    "cur.fetchall()"
   ]
  },
  {
   "cell_type": "markdown",
   "id": "869d9a12-18f9-47ec-bff3-89c30a5824e0",
   "metadata": {},
   "source": [
    "Answer: (title, average rating)"
   ]
  },
  {
   "cell_type": "markdown",
   "id": "e24ec091-e113-4694-9275-77baaa164f91",
   "metadata": {
    "tags": []
   },
   "source": [
    "# TASK 4 \n",
    "What are 5 most often rating users ?"
   ]
  },
  {
   "cell_type": "code",
   "execution_count": null,
   "id": "3e49e299-c641-49ab-8d87-a9d5ec78259a",
   "metadata": {},
   "outputs": [],
   "source": [
    "cur.execute(\n",
    "    \"\"\"SELECT \"userId\",\n",
    "     COUNT(\"userId\")\n",
    "    FROM ratings\n",
    "    GROUP BY  \"userId\"\n",
    "    ORDER BY COUNT(\"userId\") DESC\n",
    "    LIMIT 10;\"\"\"\n",
    ")\n",
    "cur.fetchall()"
   ]
  },
  {
   "cell_type": "markdown",
   "id": "2a22ae95-c664-481e-ade5-59e54aa3b578",
   "metadata": {},
   "source": [
    "Answer(userID, number of ratings)"
   ]
  },
  {
   "cell_type": "markdown",
   "id": "68657ca2-ec64-4ea0-aa04-6986fa289150",
   "metadata": {},
   "source": [
    "# TASK 5\n",
    "When was done first and last rate included in data set and what was the rated movie tittle?"
   ]
  },
  {
   "cell_type": "code",
   "execution_count": null,
   "id": "22fda4ef-d420-433b-9c2e-26a0226a4a41",
   "metadata": {},
   "outputs": [],
   "source": [
    "from datetime import datetime\n",
    "\n",
    "cur.execute(\n",
    "    \"\"\"SELECT MIN(\"timestamp\"), MAX(\"timestamp\")\n",
    "    FROM ratings\"\"\"\n",
    ")\n",
    "result = cur.fetchall()\n",
    "\n",
    "oldest_rating = datetime.utcfromtimestamp(result[0][0]).strftime('%Y-%m-%d %H:%M:%S')\n",
    "newest_rating = datetime.utcfromtimestamp(result[0][1]).strftime('%Y-%m-%d %H:%M:%S')\n",
    "\n",
    "print(f\"Oldest rating was created on {oldest_rating}\")\n",
    "print(f\"Newest rating was created on {newest_rating}\")\n"
   ]
  },
  {
   "cell_type": "markdown",
   "id": "b1133385-ceb0-4f4d-9f6c-491662104e22",
   "metadata": {},
   "source": [
    "# TASK 6\n",
    "Find all movies released in 1990"
   ]
  },
  {
   "cell_type": "code",
   "execution_count": null,
   "id": "310e79bd-4d4b-4956-ae97-8db3c530d458",
   "metadata": {},
   "outputs": [],
   "source": [
    "cur.execute(\n",
    "    \"SELECT title FROM movies WHERE title LIKE '%(1990)%'\"\n",
    ")\n",
    "result = cur.fetchall()\n",
    "# print(result)\n",
    "for i in result:\n",
    "    print(i[0].removesuffix(' (1990)'))"
   ]
  },
  {
   "cell_type": "code",
   "execution_count": null,
   "id": "beab847c-51ff-4e1e-878f-15caeeae441c",
   "metadata": {},
   "outputs": [],
   "source": [
    "# Close communication with the database\n",
    "cur.close()\n",
    "conn.close()"
   ]
  },
  {
   "cell_type": "code",
   "execution_count": null,
   "id": "e7811f1f-216a-49fa-8206-df050bd3e323",
   "metadata": {},
   "outputs": [],
   "source": []
  },
  {
   "cell_type": "code",
   "execution_count": null,
   "id": "b2796b02-692f-4b7d-b691-30cd8655be9e",
   "metadata": {},
   "outputs": [],
   "source": []
  },
  {
   "cell_type": "code",
   "execution_count": null,
   "id": "b8ab8a74-004c-4556-840a-cada9ff1f20e",
   "metadata": {},
   "outputs": [],
   "source": []
  }
 ],
 "metadata": {
  "kernelspec": {
   "display_name": "Python 3 (ipykernel)",
   "language": "python",
   "name": "python3"
  },
  "language_info": {
   "codemirror_mode": {
    "name": "ipython",
    "version": 3
   },
   "file_extension": ".py",
   "mimetype": "text/x-python",
   "name": "python",
   "nbconvert_exporter": "python",
   "pygments_lexer": "ipython3",
   "version": "3.9.10"
  }
 },
 "nbformat": 4,
 "nbformat_minor": 5
}
