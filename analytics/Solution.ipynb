{
 "cells": [
  {
   "cell_type": "code",
   "execution_count": 1,
   "id": "311d6b75-9b47-483b-a2db-eb1243c3bc73",
   "metadata": {
    "tags": []
   },
   "outputs": [],
   "source": [
    "import psycopg2\n",
    "\n",
    "# Connect to an existing database\n",
    "conn = psycopg2.connect(\"host=postgres port=5432 dbname=movies user=postgres password=changeme\")\n",
    "\n",
    "# Open a cursor to perform database operations\n",
    "cur = conn.cursor()"
   ]
  },
  {
   "cell_type": "markdown",
   "id": "e7e6b436-70f2-4ba8-bb77-503aaf390d1d",
   "metadata": {
    "tags": []
   },
   "source": [
    "# TASK 1\n",
    "How many movies are in data set ?"
   ]
  },
  {
   "cell_type": "code",
   "execution_count": 2,
   "id": "5720ad69-adbc-47a4-b956-ef8ba89cfc30",
   "metadata": {},
   "outputs": [
    {
     "data": {
      "text/plain": [
       "(9742,)"
      ]
     },
     "execution_count": 2,
     "metadata": {},
     "output_type": "execute_result"
    }
   ],
   "source": [
    "cur.execute(\"SELECT COUNT(*) FROM movies;\")\n",
    "cur.fetchone()"
   ]
  },
  {
   "cell_type": "markdown",
   "id": "fdc21cb1-c7f6-4e6a-92c5-b6bf3f2537e6",
   "metadata": {},
   "source": [
    "Answer: (number of movies in dataset)"
   ]
  },
  {
   "cell_type": "markdown",
   "id": "9e8edd0d-6588-4381-b47a-1322a97b208f",
   "metadata": {
    "tags": []
   },
   "source": [
    "# TASK 2\n",
    "What is the most common genre of movie?"
   ]
  },
  {
   "cell_type": "code",
   "execution_count": null,
   "id": "2adf1ea1-f829-4bf3-9681-990274aca0f8",
   "metadata": {},
   "outputs": [],
   "source": [
    "NOT DONE"
   ]
  },
  {
   "cell_type": "markdown",
   "id": "01769a6a-44fa-4b5d-8309-87302bd6f9fa",
   "metadata": {},
   "source": [
    "# TASK 3\n",
    "What are top 10 movies with highest rate ?"
   ]
  },
  {
   "cell_type": "code",
   "execution_count": 3,
   "id": "c805f216-da4c-46c8-a9ba-b9cc32f7ef3d",
   "metadata": {},
   "outputs": [
    {
     "data": {
      "text/plain": [
       "[('Dream of Light (a.k.a. Quince Tree Sun, The) (Sol del membrillo, El) (1992)',\n",
       "  Decimal('5.00')),\n",
       " ('I, the Jury (1982)', Decimal('5.00')),\n",
       " ('Palindromes (2004)', Decimal('5.00')),\n",
       " ('Hollywood Shuffle (1987)', Decimal('5.00')),\n",
       " ('7 Faces of Dr. Lao (1964)', Decimal('5.00')),\n",
       " ('Scooby-Doo! and the Loch Ness Monster (2004)', Decimal('5.00')),\n",
       " ('Nasu: Summer in Andalusia (2003)', Decimal('5.00')),\n",
       " ('Scooby-Doo! Abracadabra-Doo (2010)', Decimal('5.00')),\n",
       " ('20 Million Miles to Earth (1957)', Decimal('5.00')),\n",
       " ('Seve (2014)', Decimal('5.00'))]"
      ]
     },
     "execution_count": 3,
     "metadata": {},
     "output_type": "execute_result"
    }
   ],
   "source": [
    "cur.execute(\n",
    "    \"\"\"SELECT \"title\", ROUND(AVG(\"rating\"), 2)\n",
    "    FROM movies\n",
    "        JOIN ratings USING (\"movieId\")\n",
    "    GROUP BY \"movieId\"\n",
    "    ORDER BY AVG(\"rating\") DESC\n",
    "    LIMIT 10;\"\"\"\n",
    ")\n",
    "cur.fetchall()"
   ]
  },
  {
   "cell_type": "markdown",
   "id": "aa2bd4b3-7e4a-4dd4-bda0-e567cd4e437b",
   "metadata": {},
   "source": [
    "Answer: (title, average rating)"
   ]
  },
  {
   "cell_type": "markdown",
   "id": "337f4a67-dbaf-4e7a-b797-64bce24afba3",
   "metadata": {
    "tags": []
   },
   "source": [
    "# TASK 4 \n",
    "What are 5 most often rating users ?"
   ]
  },
  {
   "cell_type": "code",
   "execution_count": 4,
   "id": "841e8349-3851-4a32-9caa-6964684fd69c",
   "metadata": {},
   "outputs": [
    {
     "data": {
      "text/plain": [
       "[(414, 2698),\n",
       " (599, 2478),\n",
       " (474, 2108),\n",
       " (448, 1864),\n",
       " (274, 1346),\n",
       " (610, 1302),\n",
       " (68, 1260),\n",
       " (380, 1218),\n",
       " (606, 1115),\n",
       " (288, 1055)]"
      ]
     },
     "execution_count": 4,
     "metadata": {},
     "output_type": "execute_result"
    }
   ],
   "source": [
    "cur.execute(\n",
    "    \"\"\"SELECT \"userId\",\n",
    "     COUNT(\"userId\")\n",
    "    FROM ratings\n",
    "    GROUP BY  \"userId\"\n",
    "    ORDER BY COUNT(\"userId\") DESC\n",
    "    LIMIT 10;\"\"\"\n",
    ")\n",
    "cur.fetchall()"
   ]
  },
  {
   "cell_type": "markdown",
   "id": "d79bf6ed-f6c0-4096-bd5b-9b7ecb0dca22",
   "metadata": {},
   "source": [
    "Answer(userID, number of ratings)"
   ]
  },
  {
   "cell_type": "markdown",
   "id": "d187b449-666f-4a65-9602-850cfaa197a3",
   "metadata": {},
   "source": [
    "# TASK 5\n",
    "When was done first and last rate included in data set and what was the rated movie tittle?"
   ]
  },
  {
   "cell_type": "code",
   "execution_count": 5,
   "id": "eb6768bb-8fb1-485f-b107-91e9b85ee2c5",
   "metadata": {},
   "outputs": [
    {
     "name": "stdout",
     "output_type": "stream",
     "text": [
      "Oldest rating was created on 1996-03-29 18:36:55\n",
      "Newest rating was created on 2018-09-24 14:27:30\n"
     ]
    }
   ],
   "source": [
    "from datetime import datetime\n",
    "\n",
    "cur.execute(\n",
    "    \"\"\"SELECT MIN(\"timestamp\"), MAX(\"timestamp\")\n",
    "    FROM ratings\"\"\"\n",
    ")\n",
    "result = cur.fetchall()\n",
    "\n",
    "oldest_rating = datetime.utcfromtimestamp(result[0][0]).strftime('%Y-%m-%d %H:%M:%S')\n",
    "newest_rating = datetime.utcfromtimestamp(result[0][1]).strftime('%Y-%m-%d %H:%M:%S')\n",
    "\n",
    "print(f\"Oldest rating was created on {oldest_rating}\")\n",
    "print(f\"Newest rating was created on {newest_rating}\")\n"
   ]
  },
  {
   "cell_type": "markdown",
   "id": "e9537bc7-a260-4430-aad4-be41bb88d4ad",
   "metadata": {},
   "source": [
    "# TASK 6\n",
    "Find all movies released in 1990"
   ]
  },
  {
   "cell_type": "code",
   "execution_count": 14,
   "id": "db47f8ca-5c66-4a8f-ad97-b9d71a750dd1",
   "metadata": {},
   "outputs": [
    {
     "name": "stdout",
     "output_type": "stream",
     "text": [
      "Home Alone\n",
      "Ghost\n",
      "Dances with Wolves\n",
      "Pretty Woman\n",
      "Days of Thunder\n",
      "Grifters, The\n",
      "Tie Me Up! Tie Me Down! (¡Átame!)\n",
      "Paris Is Burning\n",
      "Goodfellas\n",
      "Trust\n",
      "Rosencrantz and Guildenstern Are Dead\n",
      "Miller's Crossing\n",
      "Femme Nikita, La (Nikita)\n",
      "Pump Up the Volume\n",
      "Cyrano de Bergerac\n",
      "Amityville Curse, The\n",
      "Die Hard 2\n",
      "Young Guns II\n",
      "Marked for Death\n",
      "Hunt for Red October, The\n",
      "King of New York\n",
      "Metropolitan\n",
      "Child's Play 2\n",
      "Exorcist III, The\n",
      "Gremlins 2: The New Batch\n",
      "Back to the Future Part III\n",
      "Godfather: Part III, The\n",
      "Rescuers Down Under, The\n",
      "NeverEnding Story II: The Next Chapter, The\n",
      "My Blue Heaven\n",
      "Sheltering Sky, The\n",
      "Edward Scissorhands\n",
      "Tales from the Darkside: The Movie\n",
      "Heart Condition\n",
      "Rocky V\n",
      "Dick Tracy\n",
      "Arachnophobia\n",
      "Problem Child\n",
      "Total Recall\n",
      "Guardian, The\n",
      "RoboCop 2\n",
      "Bride of Re-Animator\n",
      "Repossessed\n",
      "Stanley & Iris\n",
      "Awakenings\n",
      "Come See the Paradise\n",
      "Bonfire of the Vanities\n",
      "Two Jakes, The\n",
      "Pacific Heights\n",
      "Mo' Better Blues\n",
      "Teenage Mutant Ninja Turtles\n",
      "Jacob's Ladder\n",
      "Misery\n",
      "All the Vermeers in New York\n",
      "Flatliners\n",
      "Predator 2\n",
      "Bird on a Wire\n",
      "Long Walk Home, The\n",
      "Hamlet\n",
      "Hot Spot, The\n",
      "House Party\n",
      "Air America\n",
      "Slumber Party Massacre III\n",
      "Sorority House Massacre II\n",
      "Avalon\n",
      "Mermaids\n",
      "Navy Seals\n",
      "Reversal of Fortune\n",
      "Alice\n",
      "Lord of the Flies\n",
      "Another 48 Hrs.\n",
      "Russia House, The\n",
      "Joe Versus the Volcano\n",
      "Taking Care of Business\n",
      "Three Men and a Little Lady\n",
      "Cadillac Man\n",
      "Wild Orchid\n",
      "Mountains of the Moon\n",
      "Men at Work\n",
      "Betsy's Wedding\n",
      "Ernest Goes to Jail\n",
      "Spaced Invaders\n",
      "Flashback\n",
      "My Father's Glory (La gloire de mon père)\n",
      "My Mother's Castle (Château de ma mère, Le)\n",
      "Blue Steel\n",
      "Miami Blues\n",
      "Europa Europa (Hitlerjunge Salomon)\n",
      "Green Card\n",
      "Akira Kurosawa's Dreams (Dreams)\n",
      "Sibling Rivalry\n",
      "Loose Cannons\n",
      "I Love You to Death\n",
      "Tremors\n",
      "Angel at My Table, An\n",
      "Handmaid's Tale, The\n",
      "Rookie, The\n",
      "White Hunter, Black Heart\n",
      "Darkman\n",
      "Freshman, The\n",
      "Kindergarten Cop\n",
      "Mr. Destiny\n",
      "Presumed Innocent\n",
      "Quick Change\n",
      "Revenge\n",
      "Wild at Heart\n",
      "Witches, The\n",
      "Madhouse\n",
      "Adventures of Ford Fairlane, The\n",
      "Henry & June\n",
      "Look Who's Talking Too\n",
      "Twister\n",
      "Nightbreed\n",
      "Robot Jox\n",
      "Frankenstein Unbound\n",
      "Delta Force 2 (Delta Force 2: The Colombian Connection)\n",
      "Night of the Living Dead\n",
      "Hairdresser's Husband, The (Le mari de la coiffeuse)\n",
      "Book of Love\n",
      "Memphis Belle\n",
      "Almost an Angel\n",
      "Cry-Baby\n",
      "Bullet in the Head\n",
      "Ghost Dad\n",
      "It\n",
      "Ju Dou\n",
      "Krays, The\n",
      "Lionheart\n",
      "Nuns on the Run\n",
      "State of Grace\n",
      "Days of Being Wild (A Fei jingjyuhn)\n",
      "Begotten\n",
      "Quigley Down Under\n",
      "Captain America\n",
      "Hardware\n",
      "Match Factory Girl, The (Tulitikkutehtaan tyttö)\n",
      "Heaven and Earth (Ten to Chi to)\n",
      "Troll 2\n",
      "Civil War, The\n",
      "Mickey's The Prince and the Pauper\n",
      "Dragon Ball Z the Movie: The World's Strongest (a.k.a. Dragon Ball Z: The Strongest Guy in The World) (Doragon bôru Z: Kono yo de ichiban tsuyoi yatsu)\n",
      "Dragon Ball Z the Movie: The Tree of Might (Doragon bôru Z 3: Chikyû marugoto chô kessen)\n",
      "Dragon Ball Z: Bardock - The Father of Goku (Doragon bôru Z: Tatta hitori no saishuu kessen - Furiiza ni itonda Z senshi Kakarotto no chichi)\n",
      "I Bought a Vampire Motorcycle\n",
      "Maniac Cop 2\n",
      "Jetsons: The Movie\n",
      "The Forbidden Dance\n"
     ]
    }
   ],
   "source": [
    "cur.execute(\n",
    "    \"SELECT title FROM movies WHERE title LIKE '%(1990)%'\"\n",
    ")\n",
    "result = cur.fetchall()\n",
    "# print(result)\n",
    "for i in result:\n",
    "    print(i[0].removesuffix(' (1990)'))"
   ]
  },
  {
   "cell_type": "code",
   "execution_count": 13,
   "id": "53fa1b7d-dad8-487d-b4c2-b674b88e067e",
   "metadata": {},
   "outputs": [],
   "source": [
    "# Close communication with the database\n",
    "cur.close()\n",
    "conn.close()"
   ]
  },
  {
   "cell_type": "code",
   "execution_count": null,
   "id": "2fd77b21-6b50-4d60-b0f5-9772be181fc9",
   "metadata": {},
   "outputs": [],
   "source": []
  },
  {
   "cell_type": "code",
   "execution_count": 9,
   "id": "e7349bc5-bade-4208-b11a-7dc60e360957",
   "metadata": {},
   "outputs": [
    {
     "name": "stdout",
     "output_type": "stream",
     "text": [
      "Package                       Version\n",
      "----------------------------- -----------\n",
      "alembic                       1.7.7\n",
      "altair                        4.2.0\n",
      "anyio                         3.5.0\n",
      "argon2-cffi                   21.3.0\n",
      "argon2-cffi-bindings          21.2.0\n",
      "asttokens                     2.0.5\n",
      "async-generator               1.10\n",
      "attrs                         21.4.0\n",
      "Babel                         2.9.1\n",
      "backcall                      0.2.0\n",
      "backports.functools-lru-cache 1.6.4\n",
      "beautifulsoup4                4.11.1\n",
      "bleach                        5.0.0\n",
      "blinker                       1.4\n",
      "bokeh                         2.4.2\n",
      "Bottleneck                    1.3.4\n",
      "brotlipy                      0.7.0\n",
      "cached-property               1.5.2\n",
      "certifi                       2021.10.8\n",
      "certipy                       0.1.3\n",
      "cffi                          1.15.0\n",
      "charset-normalizer            2.0.12\n",
      "click                         8.1.2\n",
      "cloudpickle                   2.0.0\n",
      "colorama                      0.4.4\n",
      "conda                         4.12.0\n",
      "conda-package-handling        1.8.1\n",
      "cryptography                  36.0.2\n",
      "cycler                        0.11.0\n",
      "Cython                        0.29.28\n",
      "cytoolz                       0.11.2\n",
      "dask                          2022.4.1\n",
      "debugpy                       1.6.0\n",
      "decorator                     5.1.1\n",
      "defusedxml                    0.7.1\n",
      "dill                          0.3.4\n",
      "distributed                   2022.4.1\n",
      "entrypoints                   0.4\n",
      "executing                     0.8.3\n",
      "fastjsonschema                2.15.3\n",
      "flit_core                     3.7.1\n",
      "fonttools                     4.32.0\n",
      "fsspec                        2022.3.0\n",
      "gmpy2                         2.1.2\n",
      "greenlet                      1.1.2\n",
      "h5py                          3.6.0\n",
      "HeapDict                      1.0.1\n",
      "idna                          3.3\n",
      "imagecodecs                   2022.2.22\n",
      "imageio                       2.17.0\n",
      "importlib-metadata            4.11.3\n",
      "importlib-resources           5.7.1\n",
      "ipykernel                     6.13.0\n",
      "ipympl                        0.9.0\n",
      "ipython                       8.2.0\n",
      "ipython-genutils              0.2.0\n",
      "ipython-sql                   0.4.0\n",
      "ipywidgets                    7.7.0\n",
      "jedi                          0.18.1\n",
      "Jinja2                        3.1.1\n",
      "joblib                        1.1.0\n",
      "json5                         0.9.5\n",
      "jsonschema                    4.4.0\n",
      "jupyter-client                7.2.2\n",
      "jupyter-core                  4.9.2\n",
      "jupyter-server                1.16.0\n",
      "jupyter-telemetry             0.1.0\n",
      "jupyterhub                    2.2.2\n",
      "jupyterlab                    3.3.4\n",
      "jupyterlab-pygments           0.2.2\n",
      "jupyterlab-server             2.12.0\n",
      "jupyterlab-widgets            1.1.0\n",
      "kiwisolver                    1.4.2\n",
      "libmambapy                    0.22.1\n",
      "llvmlite                      0.38.0\n",
      "locket                        0.2.0\n",
      "lz4                           4.0.0\n",
      "Mako                          1.2.0\n",
      "mamba                         0.22.1\n",
      "MarkupSafe                    2.1.1\n",
      "matplotlib                    3.5.1\n",
      "matplotlib-inline             0.1.3\n",
      "mistune                       0.8.4\n",
      "mpmath                        1.2.1\n",
      "msgpack                       1.0.3\n",
      "munkres                       1.1.4\n",
      "nbclassic                     0.3.7\n",
      "nbclient                      0.6.0\n",
      "nbconvert                     6.5.0\n",
      "nbformat                      5.3.0\n",
      "nest-asyncio                  1.5.5\n",
      "networkx                      2.8\n",
      "notebook                      6.4.10\n",
      "notebook-shim                 0.1.0\n",
      "numba                         0.55.1\n",
      "numexpr                       2.8.0\n",
      "numpy                         1.21.6\n",
      "oauthlib                      3.2.0\n",
      "packaging                     21.3\n",
      "pamela                        1.0.0\n",
      "pandas                        1.4.2\n",
      "pandocfilters                 1.5.0\n",
      "parso                         0.8.3\n",
      "partd                         1.2.0\n",
      "patsy                         0.5.2\n",
      "pexpect                       4.8.0\n",
      "pickleshare                   0.7.5\n",
      "Pillow                        9.1.0\n",
      "pip                           22.0.4\n",
      "prettytable                   0.7.2\n",
      "prometheus-client             0.14.1\n",
      "prompt-toolkit                3.0.29\n",
      "protobuf                      3.20.0rc2\n",
      "psutil                        5.9.0\n",
      "psycopg2                      2.9.3\n",
      "ptyprocess                    0.7.0\n",
      "pure-eval                     0.2.2\n",
      "pycosat                       0.6.3\n",
      "pycparser                     2.21\n",
      "pycurl                        7.45.1\n",
      "Pygments                      2.11.2\n",
      "PyJWT                         2.3.0\n",
      "pyOpenSSL                     22.0.0\n",
      "pyparsing                     3.0.8\n",
      "pyrsistent                    0.18.1\n",
      "PySocks                       1.7.1\n",
      "python-dateutil               2.8.2\n",
      "python-json-logger            2.0.1\n",
      "pytz                          2022.1\n",
      "pytz-deprecation-shim         0.1.0.post0\n",
      "PyWavelets                    1.3.0\n",
      "PyYAML                        6.0\n",
      "pyzmq                         22.3.0\n",
      "requests                      2.27.1\n",
      "rpy2                          3.5.1\n",
      "ruamel.yaml                   0.17.21\n",
      "ruamel.yaml.clib              0.2.6\n",
      "ruamel-yaml-conda             0.15.80\n",
      "scikit-image                  0.19.2\n",
      "scikit-learn                  1.0.2\n",
      "scipy                         1.8.0\n",
      "seaborn                       0.11.2\n",
      "Send2Trash                    1.8.0\n",
      "setuptools                    62.1.0\n",
      "simplegeneric                 0.8.1\n",
      "six                           1.16.0\n",
      "sniffio                       1.2.0\n",
      "sortedcontainers              2.4.0\n",
      "soupsieve                     2.3.1\n",
      "SQLAlchemy                    1.4.35\n",
      "sqlparse                      0.4.2\n",
      "stack-data                    0.2.0\n",
      "statsmodels                   0.13.2\n",
      "sympy                         1.10.1\n",
      "tables                        3.7.0\n",
      "tblib                         1.7.0\n",
      "terminado                     0.13.3\n",
      "threadpoolctl                 3.1.0\n",
      "tifffile                      2022.4.8\n",
      "tinycss2                      1.1.1\n",
      "toolz                         0.11.2\n",
      "tornado                       6.1\n",
      "tqdm                          4.64.0\n",
      "traitlets                     5.1.1\n",
      "typing_extensions             4.2.0\n",
      "tzdata                        2022.1\n",
      "tzlocal                       4.2\n",
      "unicodedata2                  14.0.0\n",
      "urllib3                       1.26.9\n",
      "wcwidth                       0.2.5\n",
      "webencodings                  0.5.1\n",
      "websocket-client              1.3.2\n",
      "wheel                         0.37.1\n",
      "widgetsnbextension            3.6.0\n",
      "xlrd                          2.0.1\n",
      "zict                          2.1.0\n",
      "zipp                          3.8.0\n",
      "Note: you may need to restart the kernel to use updated packages.\n"
     ]
    }
   ],
   "source": []
  },
  {
   "cell_type": "code",
   "execution_count": null,
   "id": "4e9839c0-7e9c-4b80-b3e7-96d34b190537",
   "metadata": {},
   "outputs": [],
   "source": []
  }
 ],
 "metadata": {
  "kernelspec": {
   "display_name": "Python 3 (ipykernel)",
   "language": "python",
   "name": "python3"
  },
  "language_info": {
   "codemirror_mode": {
    "name": "ipython",
    "version": 3
   },
   "file_extension": ".py",
   "mimetype": "text/x-python",
   "name": "python",
   "nbconvert_exporter": "python",
   "pygments_lexer": "ipython3",
   "version": "3.9.10"
  }
 },
 "nbformat": 4,
 "nbformat_minor": 5
}
