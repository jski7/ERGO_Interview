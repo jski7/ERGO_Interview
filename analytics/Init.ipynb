{
 "cells": [
  {
   "cell_type": "code",
   "execution_count": 1,
   "id": "f7689b6c-46cf-4a22-ba86-51a08a490230",
   "metadata": {},
   "outputs": [],
   "source": [
    "import psycopg2\n",
    "\n",
    "# Connect to an existing database\n",
    "conn = psycopg2.connect(\"host=postgres port=5432 dbname=movies user=postgres password=changeme\")\n",
    "\n",
    "# Open a cursor to perform database operations\n",
    "cur = conn.cursor()"
   ]
  },
  {
   "cell_type": "markdown",
   "id": "b1f3d7ea-4c27-4b09-afe4-988eb28cddee",
   "metadata": {},
   "source": [
    "# Create Tables with relations"
   ]
  },
  {
   "cell_type": "code",
   "execution_count": null,
   "id": "63bd2fbd-3094-41c1-9112-c07e4acf9f3e",
   "metadata": {},
   "outputs": [],
   "source": [
    "cur.execute(\"\"\"\n",
    "        -- Table: public.links\n",
    "\n",
    "        -- DROP TABLE IF EXISTS public.links;\n",
    "\n",
    "        CREATE TABLE IF NOT EXISTS public.links\n",
    "        (\n",
    "            \"movieId\" integer NOT NULL,\n",
    "            \"imdbId\" integer NOT NULL,\n",
    "            \"tmdbId\" integer,\n",
    "            CONSTRAINT links_pkey PRIMARY KEY (\"movieId\"),\n",
    "            CONSTRAINT \"movieId_movies\" FOREIGN KEY (\"movieId\")\n",
    "                REFERENCES public.movies (\"movieId\") MATCH SIMPLE\n",
    "                ON UPDATE NO ACTION\n",
    "                ON DELETE NO ACTION\n",
    "                NOT VALID\n",
    "        )\n",
    "\n",
    "        TABLESPACE pg_default;\n",
    "\n",
    "        ALTER TABLE IF EXISTS public.links\n",
    "            OWNER to postgres;\n",
    "            \"\"\")\n",
    "conn.commit()"
   ]
  },
  {
   "cell_type": "code",
   "execution_count": null,
   "id": "b6e567fb-2b73-4d45-a0e9-a88ae40d7fcb",
   "metadata": {},
   "outputs": [],
   "source": [
    "cur.execute(\"\"\"\n",
    "        -- Table: public.movies\n",
    "\n",
    "        -- DROP TABLE IF EXISTS public.movies;\n",
    "\n",
    "        CREATE TABLE IF NOT EXISTS public.movies\n",
    "        (\n",
    "            \"movieId\" integer NOT NULL,\n",
    "            title character varying COLLATE pg_catalog.\"default\",\n",
    "            genres character varying COLLATE pg_catalog.\"default\",\n",
    "            CONSTRAINT movies_pkey PRIMARY KEY (\"movieId\")\n",
    "        )\n",
    "\n",
    "        TABLESPACE pg_default;\n",
    "\n",
    "        ALTER TABLE IF EXISTS public.movies\n",
    "            OWNER to postgres;\n",
    "            \"\"\")\n",
    "conn.commit()"
   ]
  },
  {
   "cell_type": "code",
   "execution_count": null,
   "id": "bfdef1e3-89ca-4f6a-b324-24cf8b0608c4",
   "metadata": {},
   "outputs": [],
   "source": [
    "cur.execute(\"\"\"\n",
    "        -- Table: public.ratings\n",
    "\n",
    "        -- DROP TABLE IF EXISTS public.ratings;\n",
    "\n",
    "        CREATE TABLE IF NOT EXISTS public.ratings\n",
    "        (\n",
    "            \"userId\" integer NOT NULL,\n",
    "            \"movieId\" integer NOT NULL,\n",
    "            rating numeric NOT NULL,\n",
    "            \"timestamp\" integer NOT NULL,\n",
    "            CONSTRAINT ratings_pkey PRIMARY KEY (\"userId\", \"movieId\"),\n",
    "            CONSTRAINT \"movieId_ratings\" FOREIGN KEY (\"movieId\")\n",
    "                REFERENCES public.links (\"movieId\") MATCH SIMPLE\n",
    "                ON UPDATE NO ACTION\n",
    "                ON DELETE NO ACTION\n",
    "                NOT VALID\n",
    "        )\n",
    "\n",
    "        TABLESPACE pg_default;\n",
    "\n",
    "        ALTER TABLE IF EXISTS public.ratings\n",
    "            OWNER to postgres;\n",
    "            \"\"\")\n",
    "conn.commit()"
   ]
  },
  {
   "cell_type": "markdown",
   "id": "df14b825-0b75-4efa-851d-6a638921541c",
   "metadata": {},
   "source": [
    "# Add Data to tables"
   ]
  },
  {
   "cell_type": "code",
   "execution_count": null,
   "id": "769284c7-5716-49fb-9ad0-1ea4a11287c1",
   "metadata": {},
   "outputs": [],
   "source": [
    "cur.execute(\"\"\"\n",
    "-- truncate the table first\n",
    "TRUNCATE TABLE links;\n",
    "GO\n",
    " \n",
    "-- import the file\n",
    "BULK INSERT links\n",
    "FROM './db/ml-latest-small/links.csv'\n",
    "WITH\n",
    "(\n",
    "        FORMAT='CSV',\n",
    "        FIRSTROW=2\n",
    ")\n",
    "GO\n",
    "\"\"\")\n",
    "\n",
    "conn.commit()"
   ]
  },
  {
   "cell_type": "code",
   "execution_count": null,
   "id": "09949d99-e43d-4738-91b6-25cbdab5c370",
   "metadata": {},
   "outputs": [],
   "source": [
    "cur.execute(\"\"\"\n",
    "-- truncate the table first\n",
    "TRUNCATE TABLE links;\n",
    "GO\n",
    " \n",
    "-- import the file\n",
    "BULK INSERT links\n",
    "FROM './db/ml-latest-small/links.csv'\n",
    "WITH\n",
    "(\n",
    "        FORMAT='CSV',\n",
    "        FIRSTROW=2\n",
    ")\n",
    "GO\n",
    "\"\"\")\n",
    "\n",
    "conn.commit()"
   ]
  },
  {
   "cell_type": "code",
   "execution_count": null,
   "id": "c3456051-74bd-4465-8cb0-69d1425807cb",
   "metadata": {},
   "outputs": [],
   "source": [
    "cur.execute(\"\"\"\n",
    "-- truncate the table first\n",
    "TRUNCATE TABLE movies;\n",
    "GO\n",
    " \n",
    "-- import the file\n",
    "BULK INSERT movies\n",
    "FROM './db/ml-latest-small/movies.csv'\n",
    "WITH\n",
    "(\n",
    "        FORMAT='CSV',\n",
    "        FIRSTROW=2\n",
    ")\n",
    "GO\n",
    "\"\"\")\n",
    "\n",
    "conn.commit()"
   ]
  },
  {
   "cell_type": "code",
   "execution_count": null,
   "id": "aa44a664-1a5a-48c5-8bff-c93f0c0b3a38",
   "metadata": {},
   "outputs": [],
   "source": [
    "cur.execute(\"\"\"\n",
    "-- truncate the table first\n",
    "TRUNCATE TABLE ratings;\n",
    "GO\n",
    " \n",
    "-- import the file\n",
    "BULK INSERT ratings\n",
    "FROM './db/ml-latest-small/ratings.csv'\n",
    "WITH\n",
    "(\n",
    "        FORMAT='CSV',\n",
    "        FIRSTROW=2\n",
    ")\n",
    "GO\n",
    "\"\"\")\n",
    "\n",
    "conn.commit()"
   ]
  },
  {
   "cell_type": "code",
   "execution_count": null,
   "id": "81af0f1f-cd9e-42ed-80fc-6a42d2f6c110",
   "metadata": {},
   "outputs": [],
   "source": [
    "cur.execute(\"\"\"\n",
    "-- truncate the table first\n",
    "TRUNCATE TABLE tags;\n",
    "GO\n",
    " \n",
    "-- import the file\n",
    "BULK INSERT tags\n",
    "FROM './db/ml-latest-small/tags.csv'\n",
    "WITH\n",
    "(\n",
    "        FORMAT='CSV',\n",
    "        FIRSTROW=2\n",
    ")\n",
    "GO\n",
    "\"\"\")\n",
    "\n",
    "conn.commit()"
   ]
  },
  {
   "cell_type": "code",
   "execution_count": null,
   "id": "9c75197e-d0f2-45fa-b03a-899dee3475a1",
   "metadata": {},
   "outputs": [],
   "source": [
    "# Close communication with the database\n",
    "cur.close()\n",
    "conn.close()"
   ]
  }
 ],
 "metadata": {
  "kernelspec": {
   "display_name": "Python 3 (ipykernel)",
   "language": "python",
   "name": "python3"
  },
  "language_info": {
   "codemirror_mode": {
    "name": "ipython",
    "version": 3
   },
   "file_extension": ".py",
   "mimetype": "text/x-python",
   "name": "python",
   "nbconvert_exporter": "python",
   "pygments_lexer": "ipython3",
   "version": "3.9.10"
  }
 },
 "nbformat": 4,
 "nbformat_minor": 5
}
